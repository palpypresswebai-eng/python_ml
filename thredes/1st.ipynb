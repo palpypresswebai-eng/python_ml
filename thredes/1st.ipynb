{
 "cells": [
  {
   "cell_type": "code",
   "execution_count": 10,
   "id": "2ea4bdf3",
   "metadata": {},
   "outputs": [
    {
     "name": "stdout",
     "output_type": "stream",
     "text": [
      "number : 0\n",
      "letter : a\n",
      "number : 1\n",
      "letter : b\n",
      "number : 2\n",
      "letter : c\n",
      "number : 3\n",
      "letter : d\n",
      "number : 4letter : e\n",
      "\n",
      "10.00937533378601\n"
     ]
    }
   ],
   "source": [
    "\n",
    "import threading\n",
    "import time\n",
    "\n",
    "\n",
    "def print_time():\n",
    "    for i in range(5):\n",
    "        time.sleep(2)\n",
    "        print(f\"number : {i}\")\n",
    "\n",
    "\n",
    "def print_letters():\n",
    "    for letter in \"abcde\":\n",
    "        time.sleep(2)\n",
    "        print(f\"letter : {letter}\")\n",
    "\n",
    "\n",
    "t1=threading.Thread(target=print_time)\n",
    "t2=threading.Thread(target=print_letters)\n",
    "\n",
    "t=time.time()\n",
    "# start threading\n",
    "t1.start()\n",
    "t2.start()\n",
    "\n",
    "#end threading\n",
    "t1.join()\n",
    "t2.join()\n",
    "ttt = time.time()-t\n",
    "print(ttt)"
   ]
  },
  {
   "cell_type": "code",
   "execution_count": 1,
   "id": "47c7a4cc",
   "metadata": {},
   "outputs": [
    {
     "data": {
      "text/plain": [
       "41"
      ]
     },
     "execution_count": 1,
     "metadata": {},
     "output_type": "execute_result"
    }
   ],
   "source": [
    "import gc\n",
    "\n",
    "gc.enable\n",
    "\n",
    "gc.collect()"
   ]
  },
  {
   "cell_type": "code",
   "execution_count": null,
   "id": "8852890c",
   "metadata": {},
   "outputs": [
    {
     "data": {
      "text/plain": [
       "[1, 23, 5, 4, 8, 5]"
      ]
     },
     "execution_count": 6,
     "metadata": {},
     "output_type": "execute_result"
    }
   ],
   "source": [
    "gc.get_stats()\n",
    "\n",
    "\n",
    "\n"
   ]
  },
  {
   "cell_type": "code",
   "execution_count": 7,
   "id": "b22d3400",
   "metadata": {},
   "outputs": [
    {
     "name": "stdout",
     "output_type": "stream",
     "text": [
      "[]\n"
     ]
    }
   ],
   "source": [
    "print(gc.garbage)"
   ]
  },
  {
   "cell_type": "code",
   "execution_count": null,
   "id": "ad562fbc",
   "metadata": {},
   "outputs": [],
   "source": []
  }
 ],
 "metadata": {
  "kernelspec": {
   "display_name": "Python 3",
   "language": "python",
   "name": "python3"
  },
  "language_info": {
   "codemirror_mode": {
    "name": "ipython",
    "version": 3
   },
   "file_extension": ".py",
   "mimetype": "text/x-python",
   "name": "python",
   "nbconvert_exporter": "python",
   "pygments_lexer": "ipython3",
   "version": "3.12.0"
  }
 },
 "nbformat": 4,
 "nbformat_minor": 5
}
