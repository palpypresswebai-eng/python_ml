{
 "cells": [
  {
   "cell_type": "code",
   "execution_count": 3,
   "id": "ac4e9326",
   "metadata": {},
   "outputs": [
    {
     "ename": "ModuleNotFoundError",
     "evalue": "No module named 'qrcode'",
     "output_type": "error",
     "traceback": [
      "\u001b[31m---------------------------------------------------------------------------\u001b[39m",
      "\u001b[31mModuleNotFoundError\u001b[39m                       Traceback (most recent call last)",
      "\u001b[36mCell\u001b[39m\u001b[36m \u001b[39m\u001b[32mIn[3]\u001b[39m\u001b[32m, line 1\u001b[39m\n\u001b[32m----> \u001b[39m\u001b[32m1\u001b[39m \u001b[38;5;28;01mimport\u001b[39;00m\u001b[38;5;250m \u001b[39m\u001b[34;01mqrcode\u001b[39;00m\n\u001b[32m      3\u001b[39m data = \u001b[38;5;28minput\u001b[39m(\u001b[33m\"\u001b[39m\u001b[33menter your website: \u001b[39m\u001b[33m\"\u001b[39m).strip()\n\u001b[32m      4\u001b[39m file_path = \u001b[38;5;28minput\u001b[39m(\u001b[33m\"\u001b[39m\u001b[33menter your file name: \u001b[39m\u001b[33m\"\u001b[39m).strip()\n",
      "\u001b[31mModuleNotFoundError\u001b[39m: No module named 'qrcode'"
     ]
    }
   ],
   "source": [
    "import qrcode\n",
    "\n",
    "data = input(\"enter your website: \").strip()\n",
    "file_path = input(\"enter your file name: \").strip()\n",
    "\n",
    "qr = qrcode.QRCode(box_size=10,border=4)\n",
    "qr.add_data(data)\n",
    "image = qr.make_image(fill_color=\"black\" , black_color=\"white\")\n",
    "image.save(file_path)\n",
    "print(f\"qr code saved as a {file_path}\")"
   ]
  }
 ],
 "metadata": {
  "kernelspec": {
   "display_name": "Python 3",
   "language": "python",
   "name": "python3"
  },
  "language_info": {
   "codemirror_mode": {
    "name": "ipython",
    "version": 3
   },
   "file_extension": ".py",
   "mimetype": "text/x-python",
   "name": "python",
   "nbconvert_exporter": "python",
   "pygments_lexer": "ipython3",
   "version": "3.12.0"
  }
 },
 "nbformat": 4,
 "nbformat_minor": 5
}
