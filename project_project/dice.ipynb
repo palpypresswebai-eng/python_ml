{
 "cells": [
  {
   "cell_type": "code",
   "execution_count": 1,
   "id": "5f8a6c84",
   "metadata": {},
   "outputs": [
    {
     "name": "stdout",
     "output_type": "stream",
     "text": [
      "1 or 2\n",
      "5 or 6\n",
      "6 or 6\n",
      "2 or 1\n",
      "envalid input\n",
      "envalid input\n",
      "2 or 2\n",
      "4 or 3\n",
      "6 or 1\n",
      "2 or 4\n",
      "3 or 1\n",
      "6 or 1\n",
      "2 or 6\n",
      "4 or 4\n",
      "2 or 1\n",
      "3 or 5\n",
      "1 or 4\n",
      "6 or 4\n",
      "1 or 4\n",
      "4 or 2\n",
      "envalid input\n",
      "1 or 1\n",
      "6 or 4\n",
      "4 or 4\n",
      "envalid input\n",
      "5 or 4\n",
      "1 or 5\n",
      "2 or 2\n",
      "envalid input\n",
      "3 or 5\n",
      "3 or 5\n",
      "6 or 6\n",
      "6 or 4\n",
      "1 or 1\n",
      "4 or 3\n",
      "5 or 5\n",
      "thank you for playing\n"
     ]
    }
   ],
   "source": [
    "import random\n",
    "\n",
    "while True:\n",
    " my_yess_no = input(\"Roll ths dice (y/n): \").lower()\n",
    " if my_yess_no == 'y':\n",
    "    dic1 = random.randint(1,6)\n",
    "    dic2 = random.randint(1,6)\n",
    "    print(f\"{dic1} or {dic2}\")\n",
    "\n",
    " elif my_yess_no == \"n\":\n",
    "    print(\"thank you for playing\")\n",
    "    break\n",
    " else: \n",
    "    print(\"envalid input\")"
   ]
  },
  {
   "cell_type": "code",
   "execution_count": null,
   "id": "00026800",
   "metadata": {},
   "outputs": [],
   "source": [
    "\n"
   ]
  }
 ],
 "metadata": {
  "kernelspec": {
   "display_name": "Python 3",
   "language": "python",
   "name": "python3"
  },
  "language_info": {
   "codemirror_mode": {
    "name": "ipython",
    "version": 3
   },
   "file_extension": ".py",
   "mimetype": "text/x-python",
   "name": "python",
   "nbconvert_exporter": "python",
   "pygments_lexer": "ipython3",
   "version": "3.12.0"
  }
 },
 "nbformat": 4,
 "nbformat_minor": 5
}
