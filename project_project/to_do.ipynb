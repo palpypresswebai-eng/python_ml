{
 "cells": [
  {
   "cell_type": "code",
   "execution_count": null,
   "id": "4ddfd6dd",
   "metadata": {},
   "outputs": [
    {
     "name": "stdout",
     "output_type": "stream",
     "text": [
      "\n",
      "---- OPTIONS ----\n",
      "1. Add task\n",
      "2. View task\n",
      "3. Mark as Done\n",
      "4. Delete task\n",
      "5. Exit\n",
      "task added successfully\n",
      "\n",
      "---- OPTIONS ----\n",
      "1. Add task\n",
      "2. View task\n",
      "3. Mark as Done\n",
      "4. Delete task\n",
      "5. Exit\n",
      "1 - {'task': 'buy car', 'status': 'pendding'}\n",
      "\n",
      "---- OPTIONS ----\n",
      "1. Add task\n",
      "2. View task\n",
      "3. Mark as Done\n",
      "4. Delete task\n",
      "5. Exit\n",
      "Invalid choice!\n",
      "\n",
      "---- OPTIONS ----\n",
      "1. Add task\n",
      "2. View task\n",
      "3. Mark as Done\n",
      "4. Delete task\n",
      "5. Exit\n"
     ]
    }
   ],
   "source": [
    "todo_tasks = []\n",
    "\n",
    "def show():\n",
    "    while True:   # infinite loop\n",
    "        print(\"\\n---- OPTIONS ----\")\n",
    "        print(\"1. Add task\")\n",
    "        print(\"2. View task\")\n",
    "        print(\"3. Mark as Done\")\n",
    "        print(\"4. Delete task\")\n",
    "        print(\"5. Exit\")\n",
    "\n",
    "        choice = input(\"Enter your choice: \")\n",
    "\n",
    "        if choice == \"1\":\n",
    "            add_task()\n",
    "            # print(\"Add task function goes here\")\n",
    "        elif choice == \"2\":\n",
    "            view_task()\n",
    "            # print(\"View task function goes here\")\n",
    "        elif choice == \"3\":\n",
    "            # mark_as_done()\n",
    "            print(\"Mark as done function goes here\")\n",
    "        elif choice == \"4\":\n",
    "            # delete_task()\n",
    "            print(\"Delete task function goes here\")\n",
    "        elif choice == \"5\":\n",
    "            print(\"Exiting the application...\")\n",
    "            break   # <-- closes the while loop\n",
    "        else:\n",
    "            print(\"Invalid choice!\")\n",
    "\n",
    "# run program\n",
    "\n",
    "\n",
    "def add_task():\n",
    "    task = input(\"enter your task\")\n",
    "    todo_tasks.append({'task': task, \"status\": \"pendding\"})\n",
    "    print(\"task added successfully\")\n",
    "\n",
    "def view_task():\n",
    "    if len(todo_tasks) == 0:\n",
    "        print(\"no tasks in remening\")\n",
    "    else:\n",
    "        for index,task in enumerate(todo_tasks,1):\n",
    "            print(f\"{index} - {task['task']} - {task['status']}\")\n",
    "\n",
    "def delete_task():\n",
    "    if\n",
    "show()"
   ]
  },
  {
   "cell_type": "code",
   "execution_count": null,
   "id": "0f72d88f",
   "metadata": {},
   "outputs": [],
   "source": []
  }
 ],
 "metadata": {
  "kernelspec": {
   "display_name": "Python 3",
   "language": "python",
   "name": "python3"
  },
  "language_info": {
   "codemirror_mode": {
    "name": "ipython",
    "version": 3
   },
   "file_extension": ".py",
   "mimetype": "text/x-python",
   "name": "python",
   "nbconvert_exporter": "python",
   "pygments_lexer": "ipython3",
   "version": "3.12.0"
  }
 },
 "nbformat": 4,
 "nbformat_minor": 5
}
