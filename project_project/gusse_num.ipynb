{
 "cells": [
  {
   "cell_type": "code",
   "execution_count": 5,
   "id": "4ace0b3f",
   "metadata": {},
   "outputs": [
    {
     "name": "stdout",
     "output_type": "stream",
     "text": [
      "Too high! Try again.\n",
      "Too low! Try again.\n",
      "Too high! Try again.\n",
      "Too high! Try again.\n",
      "🎉 Congratulations! You guessed it right.\n"
     ]
    }
   ],
   "source": [
    "import random\n",
    "\n",
    "random_num = random.randint(1, 100)\n",
    "\n",
    "while True:\n",
    "    try:\n",
    "        user_input = int(input(\"Guess the number between 1 and 100\"))\n",
    "        if user_input > random_num:\n",
    "            print(\"Too high! Try again.\")\n",
    "        elif user_input < random_num:\n",
    "            print(\"Too low! Try again.\")\n",
    "        else:\n",
    "            print(\"🎉 Congratulations! You guessed it right.\")\n",
    "            break\n",
    "    except ValueError:\n",
    "        print(\"invalid input\")\n"
   ]
  },
  {
   "cell_type": "markdown",
   "id": "11c9b912",
   "metadata": {},
   "source": []
  },
  {
   "cell_type": "code",
   "execution_count": null,
   "id": "42d6419f",
   "metadata": {},
   "outputs": [],
   "source": []
  }
 ],
 "metadata": {
  "kernelspec": {
   "display_name": "Python 3",
   "language": "python",
   "name": "python3"
  },
  "language_info": {
   "codemirror_mode": {
    "name": "ipython",
    "version": 3
   },
   "file_extension": ".py",
   "mimetype": "text/x-python",
   "name": "python",
   "nbconvert_exporter": "python",
   "pygments_lexer": "ipython3",
   "version": "3.12.0"
  }
 },
 "nbformat": 4,
 "nbformat_minor": 5
}
