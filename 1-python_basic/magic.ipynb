{
 "cells": [
  {
   "cell_type": "code",
   "execution_count": 12,
   "id": "a6f121aa",
   "metadata": {},
   "outputs": [
    {
     "name": "stdout",
     "output_type": "stream",
     "text": [
      "pal and 21 is\n",
      "name = pal age is 21\n"
     ]
    }
   ],
   "source": [
    "class Person:\n",
    "    def __init__(self,name,age):\n",
    "        self.name = name\n",
    "        self.age = age\n",
    "\n",
    "    def __str__(self):\n",
    "        return f\"{self.name} and {self.age} is\"\n",
    "    \n",
    "    def __repr__(self):\n",
    "        return f\"name = {self.name} age is {self.age}\"\n",
    "    \n",
    "person = Person(\"pal\",21)\n",
    "print(person)\n",
    "\n",
    "print(repr(person))"
   ]
  },
  {
   "cell_type": "code",
   "execution_count": 25,
   "id": "c528e3a8",
   "metadata": {},
   "outputs": [
    {
     "name": "stdout",
     "output_type": "stream",
     "text": [
      "P\n"
     ]
    }
   ],
   "source": [
    "def read_big_file(file_path):\n",
    "    with open(file_path,\"r\") as file:\n",
    "        for line in file:\n",
    "            for char in line:\n",
    "                return char\n",
    "            # print(\"line\", line)\n",
    "            # yield line\n",
    "\n",
    "file_path = \"big.txt\"\n",
    "for line in read_big_file(file_path):\n",
    "    print(line.strip())\n",
    "\n",
    "# with open(\"big.txt\", \"r\") as file:\n",
    "#     for line in file:\n",
    "#         for i in line:\n",
    "#             print(i.strip())\n",
    "\n"
   ]
  },
  {
   "cell_type": "code",
   "execution_count": null,
   "id": "c2fd7a83",
   "metadata": {},
   "outputs": [],
   "source": []
  }
 ],
 "metadata": {
  "kernelspec": {
   "display_name": "Python 3",
   "language": "python",
   "name": "python3"
  },
  "language_info": {
   "codemirror_mode": {
    "name": "ipython",
    "version": 3
   },
   "file_extension": ".py",
   "mimetype": "text/x-python",
   "name": "python",
   "nbconvert_exporter": "python",
   "pygments_lexer": "ipython3",
   "version": "3.12.0"
  }
 },
 "nbformat": 4,
 "nbformat_minor": 5
}
