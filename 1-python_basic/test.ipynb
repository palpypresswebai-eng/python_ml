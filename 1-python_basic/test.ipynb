{
 "cells": [
  {
   "cell_type": "code",
   "execution_count": 2,
   "id": "238aef08",
   "metadata": {},
   "outputs": [
    {
     "name": "stdout",
     "output_type": "stream",
     "text": [
      "10\n"
     ]
    }
   ],
   "source": [
    "print(8+2)"
   ]
  },
  {
   "cell_type": "code",
   "execution_count": 3,
   "id": "9286ed9e",
   "metadata": {},
   "outputs": [
    {
     "name": "stdout",
     "output_type": "stream",
     "text": [
      "hello pal\n"
     ]
    }
   ],
   "source": [
    "print(\"hello pal\")"
   ]
  },
  {
   "cell_type": "code",
   "execution_count": 8,
   "id": "cf49d7bf",
   "metadata": {},
   "outputs": [
    {
     "name": "stdout",
     "output_type": "stream",
     "text": [
      "number error\n",
      "-0.2\n"
     ]
    }
   ],
   "source": [
    "num1=(int(input(\"enter first number\")))\n",
    "num2=(int(input(\"enter second number\")))\n",
    "choose = (input(\"enter what you want to doo +  -  /  * \"))\n",
    "\n",
    "if choose == \"+\":\n",
    "    result = num1 + num2\n",
    "elif choose == \"-\":\n",
    "    result = num1-num2\n",
    "elif choose == \"*\":\n",
    "    result = num1*num2\n",
    "elif choose == \"/\":\n",
    "    if num1 >0:\n",
    "        result = num1/num2\n",
    "    else:\n",
    "        print(\"number error\")\n",
    "else:\n",
    "    print(\"error\")\n",
    "print(result)"
   ]
  },
  {
   "cell_type": "code",
   "execution_count": 25,
   "id": "5a69c718",
   "metadata": {},
   "outputs": [
    {
     "name": "stdout",
     "output_type": "stream",
     "text": [
      "you priice is 30rs\n"
     ]
    }
   ],
   "source": [
    "age = (int(input(\"enter your age\")))\n",
    "\n",
    "\n",
    "if age < 5:\n",
    "    print(\"your ticket is free\")\n",
    "elif age<13:\n",
    "     student = (input(\"are you student yes/no\"))\n",
    "     if student == \"yes\":\n",
    "       print(\"your ticket price is 15rs\")\n",
    "     else:\n",
    "       print(\"you priice is 25rs\")\n",
    "elif age<=18:\n",
    "       print(\"you priice is 30rs\")\n",
    "else:\n",
    "       print(\"you priice is 50rs\")\n"
   ]
  },
  {
   "cell_type": "code",
   "execution_count": 44,
   "id": "4d0e7451",
   "metadata": {},
   "outputs": [
    {
     "name": "stdout",
     "output_type": "stream",
     "text": [
      "10\n",
      "9\n",
      "8\n",
      "7\n",
      "6\n",
      "5\n",
      "4\n",
      "3\n",
      "2\n",
      "1\n"
     ]
    }
   ],
   "source": [
    "for i in range(10,0,-1):\n",
    "    print(i)"
   ]
  },
  {
   "cell_type": "code",
   "execution_count": 40,
   "id": "dcae4e77",
   "metadata": {},
   "outputs": [
    {
     "name": "stdout",
     "output_type": "stream",
     "text": [
      "0\n",
      "2\n",
      "4\n",
      "6\n",
      "8\n"
     ]
    }
   ],
   "source": [
    "for i in range(0,10,2):\n",
    "    print(i)"
   ]
  },
  {
   "cell_type": "code",
   "execution_count": 50,
   "id": "e1d53ac6",
   "metadata": {},
   "outputs": [
    {
     "name": "stdout",
     "output_type": "stream",
     "text": [
      "i:0 j:0\n",
      "i:0 j:1\n",
      "i:0 j:2\n",
      "i:0 j:3\n",
      "i:1 j:0\n",
      "i:1 j:1\n",
      "i:1 j:2\n",
      "i:1 j:3\n",
      "i:2 j:0\n",
      "i:2 j:1\n",
      "i:2 j:2\n",
      "i:2 j:3\n",
      "i:3 j:0\n",
      "i:3 j:1\n",
      "i:3 j:2\n",
      "i:3 j:3\n",
      "i:4 j:0\n",
      "i:4 j:1\n",
      "i:4 j:2\n",
      "i:4 j:3\n"
     ]
    }
   ],
   "source": [
    "for i in range(5):\n",
    "    for j in range(4):\n",
    "            print(f\"i:{i} j:{j}\")"
   ]
  },
  {
   "cell_type": "code",
   "execution_count": 52,
   "id": "3430107f",
   "metadata": {},
   "outputs": [
    {
     "name": "stdout",
     "output_type": "stream",
     "text": [
      "55\n"
     ]
    }
   ],
   "source": [
    "sum = 0\n",
    "\n",
    "for i in range(11):\n",
    "    sum = sum + i\n",
    "print(sum)"
   ]
  },
  {
   "cell_type": "code",
   "execution_count": null,
   "id": "aa42e002",
   "metadata": {},
   "outputs": [
    {
     "name": "stdout",
     "output_type": "stream",
     "text": [
      "2\n",
      "3\n",
      "5\n",
      "7\n",
      "11\n",
      "13\n",
      "17\n",
      "19\n",
      "23\n",
      "29\n",
      "31\n",
      "37\n",
      "41\n",
      "43\n",
      "47\n",
      "53\n",
      "59\n",
      "61\n",
      "67\n",
      "71\n",
      "73\n",
      "79\n",
      "83\n",
      "89\n",
      "97\n"
     ]
    }
   ],
   "source": [
    "for num in range(2, 101):       # 1) try numbers 2..100\n",
    "    for i in range(2, num):     # 2) test divisors 2..num-1\n",
    "        if num % i == 0:        # 3) if divisible by i, not prime\n",
    "            break\n",
    "    else:                       # 4) ran out of divisors with no break\n",
    "        print(num) \n",
    "             \n"
   ]
  },
  {
   "cell_type": "code",
   "execution_count": 63,
   "id": "61b2ebee",
   "metadata": {},
   "outputs": [
    {
     "name": "stdout",
     "output_type": "stream",
     "text": [
      "1\n",
      "2\n",
      "Loop finished\n"
     ]
    }
   ],
   "source": [
    "for i in range(1, 6):\n",
    "    if i == 3:\n",
    "        break\n",
    "    print(i)\n",
    "\n",
    "print(\"Loop finished\")"
   ]
  },
  {
   "cell_type": "code",
   "execution_count": 60,
   "id": "ed5b4aeb",
   "metadata": {},
   "outputs": [
    {
     "name": "stdout",
     "output_type": "stream",
     "text": [
      "2\n"
     ]
    }
   ],
   "source": [
    "print(6%4)"
   ]
  },
  {
   "cell_type": "code",
   "execution_count": null,
   "id": "ba601217",
   "metadata": {},
   "outputs": [],
   "source": []
  },
  {
   "cell_type": "code",
   "execution_count": 46,
   "id": "c29451ca",
   "metadata": {},
   "outputs": [
    {
     "name": "stdout",
     "output_type": "stream",
     "text": [
      "0\n",
      "1\n",
      "2\n",
      "3\n",
      "4\n"
     ]
    }
   ],
   "source": [
    "count = 0\n",
    "\n",
    "while count<5:\n",
    "    print(count)\n",
    "    count = count+1"
   ]
  },
  {
   "cell_type": "code",
   "execution_count": 18,
   "id": "788e9888",
   "metadata": {},
   "outputs": [
    {
     "data": {
      "text/plain": [
       "['apply', 'banana', 'pal', 'kiwi', 'watermalan']"
      ]
     },
     "execution_count": 18,
     "metadata": {},
     "output_type": "execute_result"
    }
   ],
   "source": [
    "fruits = [\"apply\",\"kiwi\",\"watermalan\",\"banana\",\"cherry\"]\n",
    "# fruits.append(\"pal\")\n",
    "# fruits.remove(\"banana\")\n",
    "# fruits.pop()\n",
    "# fruits[1:4]\n",
    "fruits.sort()\n",
    "fruits[2]=\"pal\"\n",
    "fruits\n"
   ]
  },
  {
   "cell_type": "code",
   "execution_count": 3,
   "id": "2304538b",
   "metadata": {},
   "outputs": [
    {
     "name": "stdout",
     "output_type": "stream",
     "text": [
      "1\n",
      "[2, 3, 4]\n",
      "5\n",
      "6\n"
     ]
    }
   ],
   "source": [
    "number=(1,2,3,4,5,6)\n",
    "pal,*prasant,meet,deep=number\n",
    "print(pal)\n",
    "print(prasant)\n",
    "print(meet)\n",
    "print(deep)"
   ]
  },
  {
   "cell_type": "code",
   "execution_count": null,
   "id": "9e03193d",
   "metadata": {},
   "outputs": [
    {
     "name": "stdout",
     "output_type": "stream",
     "text": [
      "1 2 3 \n",
      "a b c \n",
      "True False \n"
     ]
    }
   ],
   "source": [
    "nested_tuple = ((1,2,3),(\"a\",\"b\",\"c\"),(True,False))\n",
    "\n",
    "\n",
    "for sub in nested_tuple:\n",
    "    for item in sub:\n",
    "        print(item,end=\" \")\n",
    "    print()"
   ]
  },
  {
   "cell_type": "code",
   "execution_count": 6,
   "id": "7581331c",
   "metadata": {},
   "outputs": [
    {
     "name": "stdout",
     "output_type": "stream",
     "text": [
      "value of x is 5 value of y is 6\n"
     ]
    },
    {
     "data": {
      "text/plain": [
       "11"
      ]
     },
     "execution_count": 6,
     "metadata": {},
     "output_type": "execute_result"
    }
   ],
   "source": [
    "def add(x, y):\n",
    "    print(\"value of x is\", x, \"value of y is\", y)\n",
    "    return x + y\n",
    "add(5, 6) "
   ]
  },
  {
   "cell_type": "code",
   "execution_count": 12,
   "id": "22ec7c81",
   "metadata": {},
   "outputs": [
    {
     "name": "stdout",
     "output_type": "stream",
     "text": [
      "pal\n",
      "A+\n"
     ]
    }
   ],
   "source": [
    "student = {'name':\"pal\",\"age\":32,\"grade\":\"A+\"}\n",
    "print(student[\"name\"])\n",
    "print(student.get('grade'))"
   ]
  },
  {
   "cell_type": "code",
   "execution_count": 15,
   "id": "53f1c413",
   "metadata": {},
   "outputs": [
    {
     "name": "stdout",
     "output_type": "stream",
     "text": [
      "name:pal\n",
      "age:32\n",
      "grade:A+\n"
     ]
    }
   ],
   "source": [
    "for key,value in student.items():\n",
    "    print(f\"{key}:{value}\")"
   ]
  },
  {
   "cell_type": "code",
   "execution_count": 5,
   "id": "239d19a2",
   "metadata": {},
   "outputs": [
    {
     "name": "stdout",
     "output_type": "stream",
     "text": [
      "to mahant kar bhai\n",
      "remining this here\n",
      "-buy a car\n",
      "-buy a house\n",
      "-buy a boat\n",
      "-buy a plane\n",
      "-russian\n",
      "-buy a beer\n"
     ]
    }
   ],
   "source": [
    "to_do_list=[\"buy a car\", \"buy a house\", \"buy a bike\", \"buy a boat\", \"buy a plane\"]\n",
    "\n",
    "to_do_list.append(\"russian\")\n",
    "to_do_list.append(\"buy a beer\")\n",
    "\n",
    "to_do_list.remove(\"buy a bike\")\n",
    "\n",
    "if \"buy a plane\" in to_do_list:\n",
    "    print(\"to mahant kar bhai\")\n",
    "\n",
    "\n",
    "print(\"remining this here\")\n",
    "for pending in to_do_list:\n",
    "    print(f\"-{pending}\")"
   ]
  },
  {
   "cell_type": "code",
   "execution_count": 11,
   "id": "477fb98f",
   "metadata": {},
   "outputs": [
    {
     "name": "stdout",
     "output_type": "stream",
     "text": [
      "average of greade 39.88\n",
      "75\n",
      "12\n"
     ]
    }
   ],
   "source": [
    "greade = [12,25,36,45,75,15,42]\n",
    "\n",
    "greade.append(69)\n",
    "\n",
    "\n",
    "avrage_greade = sum(greade) / len(greade)\n",
    "print(f\"average of greade {avrage_greade:.2f}\")\n",
    "\n",
    "highest_gread = max(greade)\n",
    "min_gread = min(greade)\n",
    "print(highest_gread)\n",
    "print(min_gread)"
   ]
  },
  {
   "cell_type": "code",
   "execution_count": 22,
   "id": "1c984e48",
   "metadata": {},
   "outputs": [
    {
     "name": "stdout",
     "output_type": "stream",
     "text": [
      "total number of positive feedback 4\n",
      "all feedback here\n",
      "-greate\n",
      "-aswsome\n",
      "-good\n",
      "-bed\n",
      "-good\n",
      "-good\n"
     ]
    }
   ],
   "source": [
    "User_feedback = [\"greate\",\"aswsome\",\"good\",\"bed\",\"good\"]\n",
    "\n",
    "User_feedback.append(\"good\")\n",
    "\n",
    "positive_feedback = sum(1 for commet in User_feedback if \"good\" in commet.lower() or \"aswsome\" in commet)\n",
    "print(f\"total number of positive feedback {positive_feedback}\")\n",
    "\n",
    "print(\"all feedback here\")\n",
    "for commmet in User_feedback:\n",
    "    print(f\"-{commmet}\")"
   ]
  },
  {
   "cell_type": "code",
   "execution_count": 2,
   "id": "80e8cfb0",
   "metadata": {},
   "outputs": [
    {
     "name": "stdout",
     "output_type": "stream",
     "text": [
      "77.0\n",
      "25.0\n"
     ]
    }
   ],
   "source": [
    "def temperature(temp,unit):\n",
    "    if unit==\"c\":\n",
    "        return temp * 9/5 + 32\n",
    "    elif unit==\"f\":\n",
    "        return (temp-32)*5/9\n",
    "    else:\n",
    "        return None\n",
    "print(temperature(25,\"c\"))\n",
    "print(temperature(77,\"f\"))\n"
   ]
  },
  {
   "cell_type": "code",
   "execution_count": null,
   "id": "f7e60a30",
   "metadata": {},
   "outputs": [],
   "source": [
    "def passwordd_check(passs):\n",
    "    if len(passs)<8:\n",
    "        print(\"password is to small\")\n",
    "    if not any(char.isdigit() for char in passs):\n",
    "        print(\"not any digit included\")\n",
    "    if not any(char.islower()  for char in passs):\n",
    "        print(\"only lower case\")\n",
    "    if not any(char.isupper()  for char in passs):\n",
    "        print(\"no upper case\")\n",
    "    if not any(char in '@#$%^&*()-+' for char in passs):\n",
    "        print(\"special charater not includeds\")\n",
    "    else:\n",
    "        print(\"passwoed is saved\")"
   ]
  },
  {
   "cell_type": "code",
   "execution_count": 17,
   "id": "b93c809b",
   "metadata": {},
   "outputs": [
    {
     "name": "stdout",
     "output_type": "stream",
     "text": [
      "None\n"
     ]
    }
   ],
   "source": [
    "print(passwordd_check(\"5pAlp@atel\"))"
   ]
  },
  {
   "cell_type": "code",
   "execution_count": 22,
   "id": "1c432d21",
   "metadata": {},
   "outputs": [
    {
     "name": "stdout",
     "output_type": "stream",
     "text": [
      "apple = 20\n",
      "orange = 90\n",
      "banana = 36\n",
      "Total Cost: 146\n"
     ]
    }
   ],
   "source": [
    "def cart_value(cart):\n",
    "    total_cost = 0\n",
    "    for item in cart:\n",
    "        item_cost = item[\"price\"] * item[\"quantity\"]\n",
    "        item_with_price=(f\"{item['name']} = {item_cost}\")\n",
    "        print(item_with_price)\n",
    "        total_cost += item_cost\n",
    "    return total_cost\n",
    "\n",
    "cart = [\n",
    "    {\"name\": \"apple\", \"price\": 5, \"quantity\": 4},\n",
    "    {\"name\": \"orange\", \"price\": 15, \"quantity\": 6},\n",
    "    {\"name\": \"banana\", \"price\": 3, \"quantity\": 12},\n",
    "]\n",
    "\n",
    "total = cart_value(cart)\n",
    "print(\"Total Cost:\", total)\n"
   ]
  },
  {
   "cell_type": "code",
   "execution_count": 38,
   "id": "50a9c02e",
   "metadata": {},
   "outputs": [
    {
     "name": "stdout",
     "output_type": "stream",
     "text": [
      "It's a palindrome ✅\n",
      "It's not a palindrome ❌\n"
     ]
    }
   ],
   "source": [
    "def check_palindrome(s):\n",
    "    p = s.lower().replace(\" \", \"\")\n",
    "\n",
    "    if p == p[::-1]:\n",
    "        return \"It's a palindrome ✅\"\n",
    "    else:\n",
    "        return \"It's not a palindrome ❌\"\n",
    "\n",
    "\n",
    "# Example usage\n",
    "st = check_palindrome(\"Madam oo madam\")\n",
    "print(st)\n",
    "\n",
    "st = check_palindrome(\"pal is good boy\")\n",
    "print(st)\n"
   ]
  },
  {
   "cell_type": "code",
   "execution_count": 45,
   "id": "83a8c381",
   "metadata": {},
   "outputs": [
    {
     "name": "stdout",
     "output_type": "stream",
     "text": [
      "120\n"
     ]
    }
   ],
   "source": [
    "def factoriyal(n):\n",
    "    if n==0:\n",
    "       return 1\n",
    "    else:\n",
    "       return n * factoriyal(n-1)\n",
    "print(factoriyal(5))"
   ]
  },
  {
   "cell_type": "code",
   "execution_count": 9,
   "id": "09ada141",
   "metadata": {},
   "outputs": [
    {
     "name": "stdout",
     "output_type": "stream",
     "text": [
      "{'pall': 2, 'dadhaniya': 1, 'i': 1, 'am': 1, 'from': 1, 'junagadh': 1}\n"
     ]
    }
   ],
   "source": [
    "def count_file_words(file_name):\n",
    "    word_count={}\n",
    "    with open(file_name,'r') as file:\n",
    "        for line in file:\n",
    "            words=line.split()\n",
    "            for word in words:\n",
    "                word=word.lower().strip()\n",
    "                word_count[word]=word_count.get(word,0)+1\n",
    "    return word_count\n",
    "\n",
    "filepath=\"normal.txt\"\n",
    "word_frequancy=count_file_words(filepath)\n",
    "print(word_frequancy)"
   ]
  },
  {
   "cell_type": "code",
   "execution_count": 10,
   "id": "8feaeded",
   "metadata": {},
   "outputs": [
    {
     "name": "stdout",
     "output_type": "stream",
     "text": [
      "<re.Match object; span=(0, 5), match='hello'>\n"
     ]
    }
   ],
   "source": [
    "import re\n",
    "\n",
    "text = \"hello world\"\n",
    "match = re.match(\"hello\", text)\n",
    "print(match)"
   ]
  },
  {
   "cell_type": "code",
   "execution_count": null,
   "id": "f9f8c6de",
   "metadata": {},
   "outputs": [
    {
     "name": "stdout",
     "output_type": "stream",
     "text": [
      "True\n",
      "False\n"
     ]
    }
   ],
   "source": [
    "import re\n",
    "\n",
    "def is_valid_email(email):\n",
    "    pattern = r'^[a-zA-Z0-9_.+-]+@[a-zA-Z0-9-]+\\.[a-zA-Z0-9-.]+$'\n",
    "    return re.match(pattern,email) is not None\n",
    "\n",
    "print(is_valid_email(\"pal@gmail.com\"))\n",
    "print(is_valid_email(\"invalid-email\"))"
   ]
  },
  {
   "cell_type": "code",
   "execution_count": 17,
   "id": "26d78610",
   "metadata": {},
   "outputs": [
    {
     "data": {
      "text/plain": [
       "[2, 3, 4, 5, 6, 7, 8, 9, 10]"
      ]
     },
     "execution_count": 17,
     "metadata": {},
     "output_type": "execute_result"
    }
   ],
   "source": [
    "numbers= [1,2,3,4,5,6,7,8,9]\n",
    "\n",
    "list(map(lambda x:x+1 ,numbers))"
   ]
  },
  {
   "cell_type": "code",
   "execution_count": 18,
   "id": "4d6b947a",
   "metadata": {},
   "outputs": [
    {
     "data": {
      "text/plain": [
       "[2, 4, 6, 8]"
      ]
     },
     "execution_count": 18,
     "metadata": {},
     "output_type": "execute_result"
    }
   ],
   "source": [
    "numbers= [1,2,3,4,5,6,7,8,9]\n",
    "\n",
    "list(filter(lambda x:x%2 == 0,numbers))"
   ]
  },
  {
   "cell_type": "code",
   "execution_count": 5,
   "id": "fecf74f3",
   "metadata": {},
   "outputs": [
    {
     "ename": "TypeError",
     "evalue": "'int' object is not iterable",
     "output_type": "error",
     "traceback": [
      "\u001b[31m---------------------------------------------------------------------------\u001b[39m",
      "\u001b[31mTypeError\u001b[39m                                 Traceback (most recent call last)",
      "\u001b[36mCell\u001b[39m\u001b[36m \u001b[39m\u001b[32mIn[5]\u001b[39m\u001b[32m, line 13\u001b[39m\n\u001b[32m     10\u001b[39m             odd_count += \u001b[32m1\u001b[39m\n\u001b[32m     11\u001b[39m     \u001b[38;5;28;01mreturn\u001b[39;00m even_count, odd_count\n\u001b[32m---> \u001b[39m\u001b[32m13\u001b[39m \u001b[38;5;28mprint\u001b[39m(\u001b[43mcount_even_odd\u001b[49m\u001b[43m(\u001b[49m\u001b[43mnum\u001b[49m\u001b[43m)\u001b[49m)  \u001b[38;5;66;03m# (4, 5)\u001b[39;00m\n",
      "\u001b[36mCell\u001b[39m\u001b[36m \u001b[39m\u001b[32mIn[5]\u001b[39m\u001b[32m, line 10\u001b[39m, in \u001b[36mcount_even_odd\u001b[39m\u001b[34m(lst)\u001b[39m\n\u001b[32m      8\u001b[39m         even_count += \u001b[32m1\u001b[39m\n\u001b[32m      9\u001b[39m     \u001b[38;5;28;01melse\u001b[39;00m:\n\u001b[32m---> \u001b[39m\u001b[32m10\u001b[39m         \u001b[43modd_count\u001b[49m\u001b[43m \u001b[49m\u001b[43m+\u001b[49m\u001b[43m=\u001b[49m\u001b[43m \u001b[49m\u001b[32;43m1\u001b[39;49m\n\u001b[32m     11\u001b[39m \u001b[38;5;28;01mreturn\u001b[39;00m even_count, odd_count\n",
      "\u001b[31mTypeError\u001b[39m: 'int' object is not iterable"
     ]
    }
   ],
   "source": [
    "num = [1, 2, 3, 4, 5, 6, 7, 8, 9]\n",
    "\n",
    "def count_even_odd(lst):\n",
    "    even_count = []\n",
    "    odd_count = []\n",
    "    for i in lst:\n",
    "        if i % 2 == 0:\n",
    "            even_count += 1\n",
    "        else:\n",
    "            odd_count += 1\n",
    "    return even_count, odd_count\n",
    "\n",
    "print(count_even_odd(num))  # (4, 5)"
   ]
  },
  {
   "cell_type": "code",
   "execution_count": 8,
   "id": "67d199e3",
   "metadata": {},
   "outputs": [
    {
     "name": "stdout",
     "output_type": "stream",
     "text": [
      "Even numbers: [2, 4, 6, 8]\n",
      "Odd numbers: [1, 3, 5, 7, 9]\n"
     ]
    }
   ],
   "source": [
    "num = [1, 2, 3, 4, 5, 6, 7, 8, 9]\n",
    "\n",
    "def split_even_odd(numbers):\n",
    "    evens = [x for x in numbers if x % 2 == 0]\n",
    "    odds = [x for x in numbers if x % 2 != 0]\n",
    "    return evens, odds\n",
    "\n",
    "evens, odds = split_even_odd(num)\n",
    "print(\"Even numbers:\", evens)\n",
    "print(\"Odd numbers:\", odds)"
   ]
  },
  {
   "cell_type": "code",
   "execution_count": 11,
   "id": "1606d9c9",
   "metadata": {},
   "outputs": [
    {
     "name": "stdout",
     "output_type": "stream",
     "text": [
      "True\n",
      "True\n"
     ]
    }
   ],
   "source": [
    "li=[1,2,3]\n",
    "li2=[1,2,3,4,5]\n",
    "\n",
    "\n",
    "def is_subset(list1, list2):\n",
    "    return set(list1).issubset(set(list2))\n",
    "\n",
    "print(is_subset(li, li2))   # True\n",
    "print(is_subset(li, li2))"
   ]
  },
  {
   "cell_type": "code",
   "execution_count": 1,
   "id": "3b7a0039",
   "metadata": {},
   "outputs": [
    {
     "data": {
      "text/plain": [
       "7"
      ]
     },
     "execution_count": 1,
     "metadata": {},
     "output_type": "execute_result"
    }
   ],
   "source": [
    "from package.maths import addition\n",
    "\n",
    "addition(2,5)\n",
    "\n"
   ]
  },
  {
   "cell_type": "code",
   "execution_count": 8,
   "id": "c2aa6d4c",
   "metadata": {},
   "outputs": [
    {
     "name": "stdout",
     "output_type": "stream",
     "text": [
      "10\n"
     ]
    }
   ],
   "source": [
    "import random\n",
    "\n",
    "print(random.randint(5,50))"
   ]
  },
  {
   "cell_type": "code",
   "execution_count": 13,
   "id": "23e930b7",
   "metadata": {},
   "outputs": [],
   "source": [
    "import os\n",
    "# os.mkdir(\"pal\")\n",
    "open(\"myfile.txt\", \"w\").close()"
   ]
  },
  {
   "cell_type": "code",
   "execution_count": 15,
   "id": "036dc5b6",
   "metadata": {},
   "outputs": [
    {
     "data": {
      "text/plain": [
       "'new_pal.txt'"
      ]
     },
     "execution_count": 15,
     "metadata": {},
     "output_type": "execute_result"
    }
   ],
   "source": [
    "import shutil\n",
    "\n",
    "shutil.copyfile(\"normal.txt\",\"new_pal.txt\")\n"
   ]
  },
  {
   "cell_type": "code",
   "execution_count": 17,
   "id": "dd363ed8",
   "metadata": {},
   "outputs": [
    {
     "name": "stdout",
     "output_type": "stream",
     "text": [
      "{\"name\": \"pal\", \"age\": 19}\n",
      "<class 'str'>\n",
      "{'name': 'pal', 'age': 19}\n",
      "<class 'dict'>\n"
     ]
    }
   ],
   "source": [
    "import json\n",
    "\n",
    "data ={\"name\":\"pal\",\"age\":19}\n",
    "\n",
    "json_data = json.dumps(data)\n",
    "print(json_data)\n",
    "print(type(json_data))\n",
    "\n",
    "new_json_try = json.loads(json_data)\n",
    "print(new_json_try)\n",
    "print(type(new_json_try))"
   ]
  },
  {
   "cell_type": "code",
   "execution_count": 21,
   "id": "3b220565",
   "metadata": {},
   "outputs": [
    {
     "name": "stdout",
     "output_type": "stream",
     "text": [
      "['name', 'age']\n",
      "['pal', '21']\n"
     ]
    }
   ],
   "source": [
    "import csv\n",
    "\n",
    "with open(\"pal.csv\",mode=\"w\",newline=\"\") as file:\n",
    "    writing = csv.writer(file)\n",
    "    writing.writerow([\"name\",\"age\"])\n",
    "    writing.writerow([\"pal\",\"21\"])\n",
    "\n",
    "with open(\"pal.csv\",mode=\"r\") as file:\n",
    "    writingg = csv.reader(file)\n",
    "    for word in writingg:\n",
    "        print(word)"
   ]
  },
  {
   "cell_type": "code",
   "execution_count": 24,
   "id": "a33f8c2e",
   "metadata": {},
   "outputs": [
    {
     "name": "stdout",
     "output_type": "stream",
     "text": [
      "1756980806.0262687\n",
      "1756980808.0274143\n"
     ]
    }
   ],
   "source": [
    "import time\n",
    "\n",
    "print(time.time())\n",
    "time.sleep(2)\n",
    "print(time.time())\n"
   ]
  },
  {
   "cell_type": "code",
   "execution_count": 36,
   "id": "42cefbad",
   "metadata": {},
   "outputs": [
    {
     "name": "stdout",
     "output_type": "stream",
     "text": [
      "['new_pal.txt', 'normal.txt', 'package', 'pal.csv', 'test.ipynb']\n"
     ]
    }
   ],
   "source": [
    "import os\n",
    "\n",
    "print(os.listdir(\".\"))\n",
    "# os.rmdir(\"pal\")\n",
    "# print(os.listdir(\".\"))\n"
   ]
  },
  {
   "cell_type": "code",
   "execution_count": 38,
   "id": "c5495409",
   "metadata": {},
   "outputs": [
    {
     "name": "stdout",
     "output_type": "stream",
     "text": [
      "Python version: 3.12.0 | packaged by Anaconda, Inc. | (main, Oct  2 2023, 17:20:38) [MSC v.1916 64 bit (AMD64)]\n",
      "Command-line arguments: ['c:\\\\Users\\\\pypre\\\\OneDrive\\\\Desktop\\\\python_ML\\\\venv\\\\Lib\\\\site-packages\\\\ipykernel_launcher.py', '--f=c:\\\\Users\\\\pypre\\\\AppData\\\\Roaming\\\\jupyter\\\\runtime\\\\kernel-v38278ad1b6f9155f422e276860b64e77c368e06f0.json']\n"
     ]
    }
   ],
   "source": [
    "import sys\n",
    "\n",
    "print(f\"Python version: {sys.version}\")\n",
    "print(f\"Command-line arguments: {sys.argv}\")"
   ]
  },
  {
   "cell_type": "code",
   "execution_count": null,
   "id": "57bcfc68",
   "metadata": {},
   "outputs": [
    {
     "name": "stdout",
     "output_type": "stream",
     "text": [
      "pall dadhaniya pall\n",
      "\n",
      "i am from junagadh\n"
     ]
    }
   ],
   "source": [
    "with open(\"normal.txt\",\"r\" )  as file:\n",
    "    for line in file:\n",
    "        print(line)\n"
   ]
  },
  {
   "cell_type": "code",
   "execution_count": 53,
   "id": "0f2366d6",
   "metadata": {},
   "outputs": [
    {
     "name": "stdout",
     "output_type": "stream",
     "text": [
      "36\n"
     ]
    }
   ],
   "source": [
    "def count_everything(file_path):\n",
    "    with open(file_path,\"r\") as file:\n",
    "        lines = file.readlines()\n",
    "        line_count = len(lines)\n",
    "        line_count_words= sum(len(line.split())for line in lines)\n",
    "        line_count_words_single = sum(len(line)for words in lines)\n",
    "        print(line_count_words_single)\n",
    "\n",
    "\n",
    "file_path = \"normal.txt\"\n",
    "count_everything(file_path)\n"
   ]
  },
  {
   "cell_type": "code",
   "execution_count": null,
   "id": "b5d5534d",
   "metadata": {},
   "outputs": [],
   "source": []
  }
 ],
 "metadata": {
  "kernelspec": {
   "display_name": "Python 3",
   "language": "python",
   "name": "python3"
  },
  "language_info": {
   "codemirror_mode": {
    "name": "ipython",
    "version": 3
   },
   "file_extension": ".py",
   "mimetype": "text/x-python",
   "name": "python",
   "nbconvert_exporter": "python",
   "pygments_lexer": "ipython3",
   "version": "3.12.0"
  }
 },
 "nbformat": 4,
 "nbformat_minor": 5
}
