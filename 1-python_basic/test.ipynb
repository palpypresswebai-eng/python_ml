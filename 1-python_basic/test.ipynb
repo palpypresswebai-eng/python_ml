{
 "cells": [
  {
   "cell_type": "code",
   "execution_count": 2,
   "id": "238aef08",
   "metadata": {},
   "outputs": [
    {
     "name": "stdout",
     "output_type": "stream",
     "text": [
      "10\n"
     ]
    }
   ],
   "source": [
    "print(8+2)"
   ]
  },
  {
   "cell_type": "code",
   "execution_count": 3,
   "id": "9286ed9e",
   "metadata": {},
   "outputs": [
    {
     "name": "stdout",
     "output_type": "stream",
     "text": [
      "hello pal\n"
     ]
    }
   ],
   "source": [
    "print(\"hello pal\")"
   ]
  },
  {
   "cell_type": "code",
   "execution_count": 8,
   "id": "cf49d7bf",
   "metadata": {},
   "outputs": [
    {
     "name": "stdout",
     "output_type": "stream",
     "text": [
      "number error\n",
      "-0.2\n"
     ]
    }
   ],
   "source": [
    "num1=(int(input(\"enter first number\")))\n",
    "num2=(int(input(\"enter second number\")))\n",
    "choose = (input(\"enter what you want to doo +  -  /  * \"))\n",
    "\n",
    "if choose == \"+\":\n",
    "    result = num1 + num2\n",
    "elif choose == \"-\":\n",
    "    result = num1-num2\n",
    "elif choose == \"*\":\n",
    "    result = num1*num2\n",
    "elif choose == \"/\":\n",
    "    if num1 >0:\n",
    "        result = num1/num2\n",
    "    else:\n",
    "        print(\"number error\")\n",
    "else:\n",
    "    print(\"error\")\n",
    "print(result)"
   ]
  },
  {
   "cell_type": "code",
   "execution_count": 25,
   "id": "5a69c718",
   "metadata": {},
   "outputs": [
    {
     "name": "stdout",
     "output_type": "stream",
     "text": [
      "you priice is 30rs\n"
     ]
    }
   ],
   "source": [
    "age = (int(input(\"enter your age\")))\n",
    "\n",
    "\n",
    "if age < 5:\n",
    "    print(\"your ticket is free\")\n",
    "elif age<13:\n",
    "     student = (input(\"are you student yes/no\"))\n",
    "     if student == \"yes\":\n",
    "       print(\"your ticket price is 15rs\")\n",
    "     else:\n",
    "       print(\"you priice is 25rs\")\n",
    "elif age<=18:\n",
    "       print(\"you priice is 30rs\")\n",
    "else:\n",
    "       print(\"you priice is 50rs\")\n"
   ]
  },
  {
   "cell_type": "code",
   "execution_count": 44,
   "id": "4d0e7451",
   "metadata": {},
   "outputs": [
    {
     "name": "stdout",
     "output_type": "stream",
     "text": [
      "10\n",
      "9\n",
      "8\n",
      "7\n",
      "6\n",
      "5\n",
      "4\n",
      "3\n",
      "2\n",
      "1\n"
     ]
    }
   ],
   "source": [
    "for i in range(10,0,-1):\n",
    "    print(i)"
   ]
  },
  {
   "cell_type": "code",
   "execution_count": 40,
   "id": "dcae4e77",
   "metadata": {},
   "outputs": [
    {
     "name": "stdout",
     "output_type": "stream",
     "text": [
      "0\n",
      "2\n",
      "4\n",
      "6\n",
      "8\n"
     ]
    }
   ],
   "source": [
    "for i in range(0,10,2):\n",
    "    print(i)"
   ]
  },
  {
   "cell_type": "code",
   "execution_count": 50,
   "id": "e1d53ac6",
   "metadata": {},
   "outputs": [
    {
     "name": "stdout",
     "output_type": "stream",
     "text": [
      "i:0 j:0\n",
      "i:0 j:1\n",
      "i:0 j:2\n",
      "i:0 j:3\n",
      "i:1 j:0\n",
      "i:1 j:1\n",
      "i:1 j:2\n",
      "i:1 j:3\n",
      "i:2 j:0\n",
      "i:2 j:1\n",
      "i:2 j:2\n",
      "i:2 j:3\n",
      "i:3 j:0\n",
      "i:3 j:1\n",
      "i:3 j:2\n",
      "i:3 j:3\n",
      "i:4 j:0\n",
      "i:4 j:1\n",
      "i:4 j:2\n",
      "i:4 j:3\n"
     ]
    }
   ],
   "source": [
    "for i in range(5):\n",
    "    for j in range(4):\n",
    "            print(f\"i:{i} j:{j}\")"
   ]
  },
  {
   "cell_type": "code",
   "execution_count": 52,
   "id": "3430107f",
   "metadata": {},
   "outputs": [
    {
     "name": "stdout",
     "output_type": "stream",
     "text": [
      "55\n"
     ]
    }
   ],
   "source": [
    "sum = 0\n",
    "\n",
    "for i in range(11):\n",
    "    sum = sum + i\n",
    "print(sum)"
   ]
  },
  {
   "cell_type": "code",
   "execution_count": null,
   "id": "aa42e002",
   "metadata": {},
   "outputs": [
    {
     "name": "stdout",
     "output_type": "stream",
     "text": [
      "2\n",
      "3\n",
      "5\n",
      "7\n",
      "11\n",
      "13\n",
      "17\n",
      "19\n",
      "23\n",
      "29\n",
      "31\n",
      "37\n",
      "41\n",
      "43\n",
      "47\n",
      "53\n",
      "59\n",
      "61\n",
      "67\n",
      "71\n",
      "73\n",
      "79\n",
      "83\n",
      "89\n",
      "97\n"
     ]
    }
   ],
   "source": [
    "for num in range(2, 101):       # 1) try numbers 2..100\n",
    "    for i in range(2, num):     # 2) test divisors 2..num-1\n",
    "        if num % i == 0:        # 3) if divisible by i, not prime\n",
    "            break\n",
    "    else:                       # 4) ran out of divisors with no break\n",
    "        print(num) \n",
    "             \n"
   ]
  },
  {
   "cell_type": "code",
   "execution_count": 63,
   "id": "61b2ebee",
   "metadata": {},
   "outputs": [
    {
     "name": "stdout",
     "output_type": "stream",
     "text": [
      "1\n",
      "2\n",
      "Loop finished\n"
     ]
    }
   ],
   "source": [
    "for i in range(1, 6):\n",
    "    if i == 3:\n",
    "        break\n",
    "    print(i)\n",
    "\n",
    "print(\"Loop finished\")"
   ]
  },
  {
   "cell_type": "code",
   "execution_count": 60,
   "id": "ed5b4aeb",
   "metadata": {},
   "outputs": [
    {
     "name": "stdout",
     "output_type": "stream",
     "text": [
      "2\n"
     ]
    }
   ],
   "source": [
    "print(6%4)"
   ]
  },
  {
   "cell_type": "code",
   "execution_count": null,
   "id": "ba601217",
   "metadata": {},
   "outputs": [],
   "source": []
  },
  {
   "cell_type": "code",
   "execution_count": 46,
   "id": "c29451ca",
   "metadata": {},
   "outputs": [
    {
     "name": "stdout",
     "output_type": "stream",
     "text": [
      "0\n",
      "1\n",
      "2\n",
      "3\n",
      "4\n"
     ]
    }
   ],
   "source": [
    "count = 0\n",
    "\n",
    "while count<5:\n",
    "    print(count)\n",
    "    count = count+1"
   ]
  },
  {
   "cell_type": "code",
   "execution_count": 18,
   "id": "788e9888",
   "metadata": {},
   "outputs": [
    {
     "data": {
      "text/plain": [
       "['apply', 'banana', 'pal', 'kiwi', 'watermalan']"
      ]
     },
     "execution_count": 18,
     "metadata": {},
     "output_type": "execute_result"
    }
   ],
   "source": [
    "fruits = [\"apply\",\"kiwi\",\"watermalan\",\"banana\",\"cherry\"]\n",
    "# fruits.append(\"pal\")\n",
    "# fruits.remove(\"banana\")\n",
    "# fruits.pop()\n",
    "# fruits[1:4]\n",
    "fruits.sort()\n",
    "fruits[2]=\"pal\"\n",
    "fruits\n"
   ]
  },
  {
   "cell_type": "code",
   "execution_count": 3,
   "id": "2304538b",
   "metadata": {},
   "outputs": [
    {
     "name": "stdout",
     "output_type": "stream",
     "text": [
      "1\n",
      "[2, 3, 4]\n",
      "5\n",
      "6\n"
     ]
    }
   ],
   "source": [
    "number=(1,2,3,4,5,6)\n",
    "pal,*prasant,meet,deep=number\n",
    "print(pal)\n",
    "print(prasant)\n",
    "print(meet)\n",
    "print(deep)"
   ]
  },
  {
   "cell_type": "code",
   "execution_count": null,
   "id": "9e03193d",
   "metadata": {},
   "outputs": [
    {
     "name": "stdout",
     "output_type": "stream",
     "text": [
      "1 2 3 \n",
      "a b c \n",
      "True False \n"
     ]
    }
   ],
   "source": [
    "nested_tuple = ((1,2,3),(\"a\",\"b\",\"c\"),(True,False))\n",
    "\n",
    "\n",
    "for sub in nested_tuple:\n",
    "    for item in sub:\n",
    "        print(item,end=\" \")\n",
    "    print()"
   ]
  },
  {
   "cell_type": "code",
   "execution_count": null,
   "id": "7581331c",
   "metadata": {},
   "outputs": [],
   "source": []
  }
 ],
 "metadata": {
  "kernelspec": {
   "display_name": "Python 3",
   "language": "python",
   "name": "python3"
  },
  "language_info": {
   "codemirror_mode": {
    "name": "ipython",
    "version": 3
   },
   "file_extension": ".py",
   "mimetype": "text/x-python",
   "name": "python",
   "nbconvert_exporter": "python",
   "pygments_lexer": "ipython3",
   "version": "3.12.0"
  }
 },
 "nbformat": 4,
 "nbformat_minor": 5
}
