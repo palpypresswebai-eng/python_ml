{
 "cells": [
  {
   "cell_type": "code",
   "execution_count": null,
   "id": "5a9ebe01",
   "metadata": {},
   "outputs": [
    {
     "name": "stdout",
     "output_type": "stream",
     "text": [
      "buddy\n",
      "3\n"
     ]
    }
   ],
   "source": [
    "# class\n",
    "\n",
    "class dog:\n",
    "\n",
    "    def __init__(self,name,age):\n",
    "        self.name = name\n",
    "        self.age = age\n",
    "\n",
    "dog1=dog(\"buddy\",3)\n",
    "print(dog1.name)\n",
    "print(dog1.age)"
   ]
  },
  {
   "cell_type": "code",
   "execution_count": 15,
   "id": "40a8e9a0",
   "metadata": {},
   "outputs": [
    {
     "name": "stdout",
     "output_type": "stream",
     "text": [
      "0\n",
      " 100 is deposite and total amount is 100\n",
      "your balance 100 and u want to withdraw this amout 200 it is na thai bhai\n"
     ]
    }
   ],
   "source": [
    "class bankaccount:\n",
    "\n",
    "    def __init__(self,owner,balance=0):\n",
    "        self.owner = owner\n",
    "        self.balance = balance\n",
    "\n",
    "    def deposite(self,amount):\n",
    "        self.balance+=amount\n",
    "        print(f\" {amount} is deposite and total amount is {self.balance}\")\n",
    "\n",
    "    def withdraw(self,amount):\n",
    "        if self.balance<amount:\n",
    "            print(f\"your balance {self.balance} and u want to withdraw this amout {amount} it is na thai bhai\")\n",
    "        else:\n",
    "            self.balance-=amount\n",
    "            print(f\"your balance {self.balance} and u  withdraw this amout {amount} \")\n",
    "    def totalbalance(self):\n",
    "        print(f\"your total balance in {self.balance}\")\n",
    "\n",
    "\n",
    "user1 = bankaccount(\"yash\")\n",
    "print(user1.balance)\n",
    "\n",
    "\n",
    "user1.deposite(100)\n",
    "user1.withdraw(200)\n",
    "# user1.withdraw(20000)\n",
    "# user1.withdraw(2)\n",
    "# user1.totalbalance()"
   ]
  },
  {
   "cell_type": "code",
   "execution_count": 26,
   "id": "c4b7a0a5",
   "metadata": {},
   "outputs": [
    {
     "name": "stdout",
     "output_type": "stream",
     "text": [
      "5\n",
      "4\n",
      "9\n"
     ]
    }
   ],
   "source": [
    "class calculater:\n",
    "\n",
    "    def __init__(self,value=0):\n",
    "        self.value = value\n",
    "\n",
    "    def add(self,amount):\n",
    "        self.value += amount\n",
    "        return self.value\n",
    "    \n",
    "    def min(self,amount):\n",
    "        self.value -= amount\n",
    "        return self.value\n",
    "\n",
    "    def multiplay(self,amount):\n",
    "        self.value *= amount\n",
    "        return self.value\n",
    "\n",
    "    def division(self,amount):\n",
    "        self.value /= amount\n",
    "        return self.value\n",
    "\n",
    "\n",
    "calculate = calculater()\n",
    "print(calculate.add(5))\n",
    "print(calculate.min(1))\n",
    "print(calculate.add(5))\n"
   ]
  },
  {
   "cell_type": "code",
   "execution_count": null,
   "id": "7f944f44",
   "metadata": {},
   "outputs": [
    {
     "name": "stdout",
     "output_type": "stream",
     "text": [
      "true\n",
      "4\n"
     ]
    }
   ],
   "source": [
    "# inheritence example\n",
    "\n",
    "class car:\n",
    "    def __init__(self,window,doors):\n",
    "        self.window = window\n",
    "        self.doors= doors\n",
    "\n",
    "car1=car(4,5)\n",
    "print(car1.doors)\n",
    " \n",
    "class tesla(car):\n",
    "    def __init__(self,window,doors,slefcar):\n",
    "        super().__init__(window,doors)\n",
    "        self.slefcar = slefcar\n",
    "\n",
    "car2 = tesla(4,5,\"true\")\n",
    "print(car2.slefcar)\n",
    "print(car2.window)\n"
   ]
  },
  {
   "cell_type": "code",
   "execution_count": 4,
   "id": "7ee46c5a",
   "metadata": {},
   "outputs": [
    {
     "name": "stdout",
     "output_type": "stream",
     "text": [
      "the shap of your 20 \n",
      "the shap of your 28.259999999999998 \n"
     ]
    }
   ],
   "source": [
    "# Polymorphism\n",
    "\n",
    "\n",
    "class shape:\n",
    "    def area(self):\n",
    "        return \"the area of the figure\"\n",
    "    \n",
    "class ragtangal(shape):\n",
    "    def __init__(self,width,height):\n",
    "        self.width = width\n",
    "        self.height = height\n",
    "\n",
    "    def area(self):\n",
    "        return self.width * self.height\n",
    "    \n",
    "class circul(shape):\n",
    "    def __init__(self,radius):\n",
    "        self.radius = radius\n",
    "\n",
    "    def area(self):\n",
    "        return 3.14*self.radius*self.radius\n",
    "    \n",
    "\n",
    "def objecct_shape(something):\n",
    "    print(f\"the shap of your {something.area()} \")\n",
    "\n",
    "\n",
    "ragtangallll = ragtangal(4,5)\n",
    "circullll= circul(3)\n",
    "\n",
    "objecct_shape(ragtangallll)\n",
    "objecct_shape(circullll)"
   ]
  },
  {
   "cell_type": "code",
   "execution_count": 2,
   "id": "929626d7",
   "metadata": {},
   "outputs": [
    {
     "name": "stdout",
     "output_type": "stream",
     "text": [
      " vecoter 6,6\n"
     ]
    }
   ],
   "source": [
    "class vector:\n",
    "    def __init__(self,x,y):\n",
    "        self.x = x\n",
    "        self.y = y\n",
    "\n",
    "    def __add__(self,other):\n",
    "        return vector(self.x + other.x, self.y + other.y )\n",
    "    def __sub__(self,other):\n",
    "        return vector(self.x - other.x, self.y - other.y )\n",
    "    def __mul__(self,other):\n",
    "        return vector(self.x * other.x, self.y * other.y )\n",
    "    def __eq__(self,other):\n",
    "        return vector(self.x == other.x and self.y == other.y )\n",
    "    \n",
    "    def __repr__(self):\n",
    "        return f\" vecoter {self.x},{self.y}\"\n",
    "    \n",
    "\n",
    "v1 = vector(2,3)\n",
    "v2 = vector(4,3)\n",
    "print(v1+v2)"
   ]
  },
  {
   "cell_type": "code",
   "execution_count": 24,
   "id": "f3a87d9a",
   "metadata": {},
   "outputs": [
    {
     "name": "stdout",
     "output_type": "stream",
     "text": [
      "the age is valid so you can apply\n"
     ]
    }
   ],
   "source": [
    "class Error(Exception):\n",
    "    pass\n",
    "\n",
    "class naihoo(Error):\n",
    "    pass\n",
    "\n",
    "\n",
    "year = int(input(\"enter your brd year\"))\n",
    "age =2024-year\n",
    "\n",
    "try:\n",
    "    if age<=30 and age>=20:\n",
    "        print(\"the age is valid so you can apply\")\n",
    "    else:\n",
    "        raise naihoo\n",
    "except naihoo:\n",
    "    print(\"nai thai\")"
   ]
  },
  {
   "cell_type": "code",
   "execution_count": null,
   "id": "949b077f",
   "metadata": {},
   "outputs": [],
   "source": [
    "my_list = [1,2,3,4,5,6]\n"
   ]
  },
  {
   "cell_type": "code",
   "execution_count": null,
   "id": "4e6bd0da",
   "metadata": {},
   "outputs": [],
   "source": [
    "deep = iter(my_list)\n"
   ]
  },
  {
   "cell_type": "code",
   "execution_count": 118,
   "id": "fe55daec",
   "metadata": {},
   "outputs": [
    {
     "name": "stdout",
     "output_type": "stream",
     "text": [
      "bus kar bhai aab\n"
     ]
    }
   ],
   "source": [
    "\n",
    "try:\n",
    "    print(next(deep))\n",
    "except StopIteration:\n",
    "    print(\"bus kar bhai aab\")"
   ]
  },
  {
   "cell_type": "code",
   "execution_count": null,
   "id": "1dbeb8d3",
   "metadata": {},
   "outputs": [
    {
     "name": "stdout",
     "output_type": "stream",
     "text": [
      "h\n",
      "e\n",
      "l\n",
      "l\n"
     ]
    }
   ],
   "source": [
    "my_str=\"hellodfjngfjghmgch,m\""
   ]
  },
  {
   "cell_type": "code",
   "execution_count": null,
   "id": "8d7f5755",
   "metadata": {},
   "outputs": [],
   "source": [
    "string_iter = iter(my_str)"
   ]
  },
  {
   "cell_type": "code",
   "execution_count": 124,
   "id": "b501c5a8",
   "metadata": {},
   "outputs": [
    {
     "ename": "StopIteration",
     "evalue": "",
     "output_type": "error",
     "traceback": [
      "\u001b[31m---------------------------------------------------------------------------\u001b[39m",
      "\u001b[31mStopIteration\u001b[39m                             Traceback (most recent call last)",
      "\u001b[36mCell\u001b[39m\u001b[36m \u001b[39m\u001b[32mIn[124]\u001b[39m\u001b[32m, line 1\u001b[39m\n\u001b[32m----> \u001b[39m\u001b[32m1\u001b[39m \u001b[38;5;28mprint\u001b[39m(\u001b[38;5;28;43mnext\u001b[39;49m\u001b[43m(\u001b[49m\u001b[43mstring_iter\u001b[49m\u001b[43m)\u001b[49m)\n",
      "\u001b[31mStopIteration\u001b[39m: "
     ]
    }
   ],
   "source": [
    "print(next(string_iter))\n"
   ]
  }
 ],
 "metadata": {
  "kernelspec": {
   "display_name": "Python 3",
   "language": "python",
   "name": "python3"
  },
  "language_info": {
   "codemirror_mode": {
    "name": "ipython",
    "version": 3
   },
   "file_extension": ".py",
   "mimetype": "text/x-python",
   "name": "python",
   "nbconvert_exporter": "python",
   "pygments_lexer": "ipython3",
   "version": "3.12.0"
  }
 },
 "nbformat": 4,
 "nbformat_minor": 5
}
